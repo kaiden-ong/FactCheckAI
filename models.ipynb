{
 "cells": [
  {
   "cell_type": "markdown",
   "metadata": {},
   "source": [
    "Take a look at this notebook: https://github.com/kaiden-ong/IsraelPalestineSentimentAnalysis/blob/main/Cleaning%20%26%20Analysis/MachineLearningModels.ipynb\n",
    "\n",
    "In these tests, fake = 0 and real = 1"
   ]
  },
  {
   "cell_type": "code",
<<<<<<< HEAD
   "execution_count": 2,
=======
   "execution_count": 98,
>>>>>>> 93bc163fbd9c247eb1a4c80c64c411b49730007d
   "metadata": {},
   "outputs": [],
   "source": [
    "import matplotlib.pyplot as plt\n",
    "import csv\n",
    "import sklearn\n",
    "import numpy as np\n",
    "import pandas as pd\n",
    "from textblob import TextBlob\n",
    "import nltk\n",
    "from sklearn.feature_extraction.text import CountVectorizer, TfidfTransformer, TfidfVectorizer\n",
    "from sklearn.model_selection import StratifiedKFold, cross_val_score, train_test_split\n",
    "from sklearn.pipeline import Pipeline\n",
    "from sklearn.svm import SVC\n",
    "from sklearn.model_selection import GridSearchCV\n",
<<<<<<< HEAD
    "from sklearn.metrics import classification_report, f1_score, accuracy_score, confusion_matrix\n",
    "import joblib"
=======
    "from sklearn.metrics import classification_report, f1_score, accuracy_score, confusion_matrix"
>>>>>>> 93bc163fbd9c247eb1a4c80c64c411b49730007d
   ]
  },
  {
   "cell_type": "code",
<<<<<<< HEAD
   "execution_count": 4,
=======
   "execution_count": 61,
>>>>>>> 93bc163fbd9c247eb1a4c80c64c411b49730007d
   "metadata": {},
   "outputs": [
    {
     "data": {
      "text/html": [
       "<div>\n",
       "<style scoped>\n",
       "    .dataframe tbody tr th:only-of-type {\n",
       "        vertical-align: middle;\n",
       "    }\n",
       "\n",
       "    .dataframe tbody tr th {\n",
       "        vertical-align: top;\n",
       "    }\n",
       "\n",
       "    .dataframe thead th {\n",
       "        text-align: right;\n",
       "    }\n",
       "</style>\n",
       "<table border=\"1\" class=\"dataframe\">\n",
       "  <thead>\n",
       "    <tr style=\"text-align: right;\">\n",
       "      <th></th>\n",
       "      <th>Unnamed: 0</th>\n",
       "      <th>text</th>\n",
       "    </tr>\n",
       "  </thead>\n",
       "  <tbody>\n",
       "    <tr>\n",
       "      <th>0</th>\n",
       "      <td>0</td>\n",
       "      <td>Donald Trump just couldn t wish all Americans ...</td>\n",
       "    </tr>\n",
       "    <tr>\n",
       "      <th>1</th>\n",
       "      <td>1</td>\n",
       "      <td>House Intelligence Committee Chairman Devin Nu...</td>\n",
       "    </tr>\n",
       "    <tr>\n",
       "      <th>2</th>\n",
       "      <td>2</td>\n",
       "      <td>On Friday, it was revealed that former Milwauk...</td>\n",
       "    </tr>\n",
       "    <tr>\n",
       "      <th>3</th>\n",
       "      <td>3</td>\n",
       "      <td>On Christmas day, Donald Trump announced that ...</td>\n",
       "    </tr>\n",
       "    <tr>\n",
       "      <th>4</th>\n",
       "      <td>4</td>\n",
       "      <td>Pope Francis used his annual Christmas Day mes...</td>\n",
       "    </tr>\n",
       "  </tbody>\n",
       "</table>\n",
       "</div>"
      ],
      "text/plain": [
       "   Unnamed: 0                                               text\n",
       "0           0  Donald Trump just couldn t wish all Americans ...\n",
       "1           1  House Intelligence Committee Chairman Devin Nu...\n",
       "2           2  On Friday, it was revealed that former Milwauk...\n",
       "3           3  On Christmas day, Donald Trump announced that ...\n",
       "4           4  Pope Francis used his annual Christmas Day mes..."
      ]
     },
<<<<<<< HEAD
     "execution_count": 4,
=======
     "execution_count": 61,
>>>>>>> 93bc163fbd9c247eb1a4c80c64c411b49730007d
     "metadata": {},
     "output_type": "execute_result"
    }
   ],
   "source": [
    "df_fake = pd.read_csv('data/DataSet_Misinfo_FAKE.csv')\n",
    "df_fake = df_fake.dropna()\n",
    "df_fake.head()"
   ]
  },
  {
   "cell_type": "code",
<<<<<<< HEAD
   "execution_count": 5,
=======
   "execution_count": 62,
>>>>>>> 93bc163fbd9c247eb1a4c80c64c411b49730007d
   "metadata": {},
   "outputs": [
    {
     "data": {
      "text/html": [
       "<div>\n",
       "<style scoped>\n",
       "    .dataframe tbody tr th:only-of-type {\n",
       "        vertical-align: middle;\n",
       "    }\n",
       "\n",
       "    .dataframe tbody tr th {\n",
       "        vertical-align: top;\n",
       "    }\n",
       "\n",
       "    .dataframe thead th {\n",
       "        text-align: right;\n",
       "    }\n",
       "</style>\n",
       "<table border=\"1\" class=\"dataframe\">\n",
       "  <thead>\n",
       "    <tr style=\"text-align: right;\">\n",
       "      <th></th>\n",
       "      <th>Unnamed: 0</th>\n",
       "    </tr>\n",
       "  </thead>\n",
       "  <tbody>\n",
       "    <tr>\n",
       "      <th>count</th>\n",
       "      <td>43642.000000</td>\n",
       "    </tr>\n",
       "    <tr>\n",
       "      <th>mean</th>\n",
       "      <td>22293.806173</td>\n",
       "    </tr>\n",
       "    <tr>\n",
       "      <th>std</th>\n",
       "      <td>12889.800176</td>\n",
       "    </tr>\n",
       "    <tr>\n",
       "      <th>min</th>\n",
       "      <td>0.000000</td>\n",
       "    </tr>\n",
       "    <tr>\n",
       "      <th>25%</th>\n",
       "      <td>10910.250000</td>\n",
       "    </tr>\n",
       "    <tr>\n",
       "      <th>50%</th>\n",
       "      <td>22450.500000</td>\n",
       "    </tr>\n",
       "    <tr>\n",
       "      <th>75%</th>\n",
       "      <td>33472.750000</td>\n",
       "    </tr>\n",
       "    <tr>\n",
       "      <th>max</th>\n",
       "      <td>44426.000000</td>\n",
       "    </tr>\n",
       "  </tbody>\n",
       "</table>\n",
       "</div>"
      ],
      "text/plain": [
       "         Unnamed: 0\n",
       "count  43642.000000\n",
       "mean   22293.806173\n",
       "std    12889.800176\n",
       "min        0.000000\n",
       "25%    10910.250000\n",
       "50%    22450.500000\n",
       "75%    33472.750000\n",
       "max    44426.000000"
      ]
     },
<<<<<<< HEAD
     "execution_count": 5,
=======
     "execution_count": 62,
>>>>>>> 93bc163fbd9c247eb1a4c80c64c411b49730007d
     "metadata": {},
     "output_type": "execute_result"
    }
   ],
   "source": [
    "df_fake.describe()"
   ]
  },
  {
   "cell_type": "code",
<<<<<<< HEAD
   "execution_count": 6,
=======
   "execution_count": 63,
>>>>>>> 93bc163fbd9c247eb1a4c80c64c411b49730007d
   "metadata": {},
   "outputs": [],
   "source": [
    "df_real = pd.read_csv('data/DataSet_Misinfo_TRUE.csv')\n",
    "df_real = df_real.dropna()"
   ]
  },
  {
   "cell_type": "code",
<<<<<<< HEAD
   "execution_count": 7,
=======
   "execution_count": 64,
>>>>>>> 93bc163fbd9c247eb1a4c80c64c411b49730007d
   "metadata": {},
   "outputs": [
    {
     "data": {
      "text/html": [
       "<div>\n",
       "<style scoped>\n",
       "    .dataframe tbody tr th:only-of-type {\n",
       "        vertical-align: middle;\n",
       "    }\n",
       "\n",
       "    .dataframe tbody tr th {\n",
       "        vertical-align: top;\n",
       "    }\n",
       "\n",
       "    .dataframe thead th {\n",
       "        text-align: right;\n",
       "    }\n",
       "</style>\n",
       "<table border=\"1\" class=\"dataframe\">\n",
       "  <thead>\n",
       "    <tr style=\"text-align: right;\">\n",
       "      <th></th>\n",
       "      <th>Unnamed: 0</th>\n",
       "    </tr>\n",
       "  </thead>\n",
       "  <tbody>\n",
       "    <tr>\n",
       "      <th>count</th>\n",
       "      <td>34946.000000</td>\n",
       "    </tr>\n",
       "    <tr>\n",
       "      <th>mean</th>\n",
       "      <td>17495.601127</td>\n",
       "    </tr>\n",
       "    <tr>\n",
       "      <th>std</th>\n",
       "      <td>10096.167826</td>\n",
       "    </tr>\n",
       "    <tr>\n",
       "      <th>min</th>\n",
       "      <td>0.000000</td>\n",
       "    </tr>\n",
       "    <tr>\n",
       "      <th>25%</th>\n",
       "      <td>8758.250000</td>\n",
       "    </tr>\n",
       "    <tr>\n",
       "      <th>50%</th>\n",
       "      <td>17501.500000</td>\n",
       "    </tr>\n",
       "    <tr>\n",
       "      <th>75%</th>\n",
       "      <td>26237.750000</td>\n",
       "    </tr>\n",
       "    <tr>\n",
       "      <th>max</th>\n",
       "      <td>34974.000000</td>\n",
       "    </tr>\n",
       "  </tbody>\n",
       "</table>\n",
       "</div>"
      ],
      "text/plain": [
       "         Unnamed: 0\n",
       "count  34946.000000\n",
       "mean   17495.601127\n",
       "std    10096.167826\n",
       "min        0.000000\n",
       "25%     8758.250000\n",
       "50%    17501.500000\n",
       "75%    26237.750000\n",
       "max    34974.000000"
      ]
     },
<<<<<<< HEAD
     "execution_count": 7,
=======
     "execution_count": 64,
>>>>>>> 93bc163fbd9c247eb1a4c80c64c411b49730007d
     "metadata": {},
     "output_type": "execute_result"
    }
   ],
   "source": [
    "df_real.describe()"
   ]
  },
  {
   "cell_type": "code",
<<<<<<< HEAD
   "execution_count": 8,
=======
   "execution_count": 65,
>>>>>>> 93bc163fbd9c247eb1a4c80c64c411b49730007d
   "metadata": {},
   "outputs": [
    {
     "data": {
      "text/html": [
       "<div>\n",
       "<style scoped>\n",
       "    .dataframe tbody tr th:only-of-type {\n",
       "        vertical-align: middle;\n",
       "    }\n",
       "\n",
       "    .dataframe tbody tr th {\n",
       "        vertical-align: top;\n",
       "    }\n",
       "\n",
       "    .dataframe thead th {\n",
       "        text-align: right;\n",
       "    }\n",
       "</style>\n",
       "<table border=\"1\" class=\"dataframe\">\n",
       "  <thead>\n",
       "    <tr style=\"text-align: right;\">\n",
       "      <th></th>\n",
       "      <th>Unnamed: 0</th>\n",
       "      <th>text</th>\n",
       "      <th>truth</th>\n",
       "    </tr>\n",
       "  </thead>\n",
       "  <tbody>\n",
       "    <tr>\n",
       "      <th>0</th>\n",
       "      <td>0</td>\n",
       "      <td>Donald Trump just couldn t wish all Americans ...</td>\n",
       "      <td>0</td>\n",
       "    </tr>\n",
       "    <tr>\n",
       "      <th>1</th>\n",
       "      <td>1</td>\n",
       "      <td>House Intelligence Committee Chairman Devin Nu...</td>\n",
       "      <td>0</td>\n",
       "    </tr>\n",
       "    <tr>\n",
       "      <th>2</th>\n",
       "      <td>2</td>\n",
       "      <td>On Friday, it was revealed that former Milwauk...</td>\n",
       "      <td>0</td>\n",
       "    </tr>\n",
       "    <tr>\n",
       "      <th>3</th>\n",
       "      <td>3</td>\n",
       "      <td>On Christmas day, Donald Trump announced that ...</td>\n",
       "      <td>0</td>\n",
       "    </tr>\n",
       "    <tr>\n",
       "      <th>4</th>\n",
       "      <td>4</td>\n",
       "      <td>Pope Francis used his annual Christmas Day mes...</td>\n",
       "      <td>0</td>\n",
       "    </tr>\n",
       "  </tbody>\n",
       "</table>\n",
       "</div>"
      ],
      "text/plain": [
       "   Unnamed: 0                                               text  truth\n",
       "0           0  Donald Trump just couldn t wish all Americans ...      0\n",
       "1           1  House Intelligence Committee Chairman Devin Nu...      0\n",
       "2           2  On Friday, it was revealed that former Milwauk...      0\n",
       "3           3  On Christmas day, Donald Trump announced that ...      0\n",
       "4           4  Pope Francis used his annual Christmas Day mes...      0"
      ]
     },
<<<<<<< HEAD
     "execution_count": 8,
=======
     "execution_count": 65,
>>>>>>> 93bc163fbd9c247eb1a4c80c64c411b49730007d
     "metadata": {},
     "output_type": "execute_result"
    }
   ],
   "source": [
    "df_fake['truth'] = 0\n",
    "df_fake.head()"
   ]
  },
  {
   "cell_type": "code",
<<<<<<< HEAD
   "execution_count": 9,
=======
   "execution_count": 66,
>>>>>>> 93bc163fbd9c247eb1a4c80c64c411b49730007d
   "metadata": {},
   "outputs": [
    {
     "data": {
      "text/html": [
       "<div>\n",
       "<style scoped>\n",
       "    .dataframe tbody tr th:only-of-type {\n",
       "        vertical-align: middle;\n",
       "    }\n",
       "\n",
       "    .dataframe tbody tr th {\n",
       "        vertical-align: top;\n",
       "    }\n",
       "\n",
       "    .dataframe thead th {\n",
       "        text-align: right;\n",
       "    }\n",
       "</style>\n",
       "<table border=\"1\" class=\"dataframe\">\n",
       "  <thead>\n",
       "    <tr style=\"text-align: right;\">\n",
       "      <th></th>\n",
       "      <th>Unnamed: 0</th>\n",
       "      <th>text</th>\n",
       "      <th>truth</th>\n",
       "    </tr>\n",
       "  </thead>\n",
       "  <tbody>\n",
       "    <tr>\n",
       "      <th>0</th>\n",
       "      <td>0</td>\n",
       "      <td>The head of a conservative Republican faction ...</td>\n",
       "      <td>1</td>\n",
       "    </tr>\n",
       "    <tr>\n",
       "      <th>1</th>\n",
       "      <td>1</td>\n",
       "      <td>Transgender people will be allowed for the fir...</td>\n",
       "      <td>1</td>\n",
       "    </tr>\n",
       "    <tr>\n",
       "      <th>2</th>\n",
       "      <td>2</td>\n",
       "      <td>The special counsel investigation of links bet...</td>\n",
       "      <td>1</td>\n",
       "    </tr>\n",
       "    <tr>\n",
       "      <th>3</th>\n",
       "      <td>3</td>\n",
       "      <td>Trump campaign adviser George Papadopoulos tol...</td>\n",
       "      <td>1</td>\n",
       "    </tr>\n",
       "    <tr>\n",
       "      <th>4</th>\n",
       "      <td>4</td>\n",
       "      <td>President Donald Trump called on the U.S. Post...</td>\n",
       "      <td>1</td>\n",
       "    </tr>\n",
       "  </tbody>\n",
       "</table>\n",
       "</div>"
      ],
      "text/plain": [
       "   Unnamed: 0                                               text  truth\n",
       "0           0  The head of a conservative Republican faction ...      1\n",
       "1           1  Transgender people will be allowed for the fir...      1\n",
       "2           2  The special counsel investigation of links bet...      1\n",
       "3           3  Trump campaign adviser George Papadopoulos tol...      1\n",
       "4           4  President Donald Trump called on the U.S. Post...      1"
      ]
     },
<<<<<<< HEAD
     "execution_count": 9,
=======
     "execution_count": 66,
>>>>>>> 93bc163fbd9c247eb1a4c80c64c411b49730007d
     "metadata": {},
     "output_type": "execute_result"
    }
   ],
   "source": [
    "df_real['truth'] = 1\n",
    "df_real.head()"
   ]
  },
  {
   "cell_type": "code",
<<<<<<< HEAD
   "execution_count": 10,
=======
   "execution_count": 74,
>>>>>>> 93bc163fbd9c247eb1a4c80c64c411b49730007d
   "metadata": {},
   "outputs": [],
   "source": [
    "df = pd.concat([df_real, df_fake])\n",
    "df = df.drop('Unnamed: 0', axis=1)"
   ]
  },
  {
   "cell_type": "code",
   "execution_count": 75,
   "metadata": {},
   "outputs": [],
   "source": [
    "# Now for the ML"
   ]
  },
  {
   "cell_type": "code",
<<<<<<< HEAD
   "execution_count": 11,
=======
   "execution_count": 76,
>>>>>>> 93bc163fbd9c247eb1a4c80c64c411b49730007d
   "metadata": {},
   "outputs": [
    {
     "data": {
      "text/html": [
       "<div>\n",
       "<style scoped>\n",
       "    .dataframe tbody tr th:only-of-type {\n",
       "        vertical-align: middle;\n",
       "    }\n",
       "\n",
       "    .dataframe tbody tr th {\n",
       "        vertical-align: top;\n",
       "    }\n",
       "\n",
       "    .dataframe thead th {\n",
       "        text-align: right;\n",
       "    }\n",
       "</style>\n",
       "<table border=\"1\" class=\"dataframe\">\n",
       "  <thead>\n",
       "    <tr style=\"text-align: right;\">\n",
       "      <th></th>\n",
       "      <th>text</th>\n",
       "      <th>truth</th>\n",
       "    </tr>\n",
       "  </thead>\n",
       "  <tbody>\n",
       "    <tr>\n",
       "      <th>0</th>\n",
       "      <td>The head of a conservative Republican faction ...</td>\n",
       "      <td>1</td>\n",
       "    </tr>\n",
       "    <tr>\n",
       "      <th>1</th>\n",
       "      <td>Transgender people will be allowed for the fir...</td>\n",
       "      <td>1</td>\n",
       "    </tr>\n",
       "    <tr>\n",
       "      <th>2</th>\n",
       "      <td>The special counsel investigation of links bet...</td>\n",
       "      <td>1</td>\n",
       "    </tr>\n",
       "    <tr>\n",
       "      <th>3</th>\n",
       "      <td>Trump campaign adviser George Papadopoulos tol...</td>\n",
       "      <td>1</td>\n",
       "    </tr>\n",
       "    <tr>\n",
       "      <th>4</th>\n",
       "      <td>President Donald Trump called on the U.S. Post...</td>\n",
       "      <td>1</td>\n",
       "    </tr>\n",
       "  </tbody>\n",
       "</table>\n",
       "</div>"
      ],
      "text/plain": [
       "                                                text  truth\n",
       "0  The head of a conservative Republican faction ...      1\n",
       "1  Transgender people will be allowed for the fir...      1\n",
       "2  The special counsel investigation of links bet...      1\n",
       "3  Trump campaign adviser George Papadopoulos tol...      1\n",
       "4  President Donald Trump called on the U.S. Post...      1"
      ]
     },
<<<<<<< HEAD
     "execution_count": 11,
=======
     "execution_count": 76,
>>>>>>> 93bc163fbd9c247eb1a4c80c64c411b49730007d
     "metadata": {},
     "output_type": "execute_result"
    }
   ],
   "source": [
    "df.head()"
   ]
  },
  {
   "cell_type": "code",
<<<<<<< HEAD
   "execution_count": 12,
=======
   "execution_count": 84,
>>>>>>> 93bc163fbd9c247eb1a4c80c64c411b49730007d
   "metadata": {},
   "outputs": [],
   "source": [
    "df_sample = df.sample(n=1000, random_state=42)"
   ]
  },
  {
   "cell_type": "code",
<<<<<<< HEAD
   "execution_count": 13,
=======
   "execution_count": 85,
>>>>>>> 93bc163fbd9c247eb1a4c80c64c411b49730007d
   "metadata": {},
   "outputs": [],
   "source": [
    "X = df_sample['text']\n",
    "y = df_sample['truth']"
   ]
  },
  {
   "cell_type": "code",
<<<<<<< HEAD
   "execution_count": 14,
=======
   "execution_count": 86,
>>>>>>> 93bc163fbd9c247eb1a4c80c64c411b49730007d
   "metadata": {},
   "outputs": [
    {
     "name": "stderr",
     "output_type": "stream",
     "text": [
      "[nltk_data] Downloading package punkt to\n",
      "[nltk_data]     C:\\Users\\mrpi3\\AppData\\Roaming\\nltk_data...\n",
      "[nltk_data]   Package punkt is already up-to-date!\n"
     ]
    },
    {
     "data": {
      "text/plain": [
       "30907    toronto — a soon a bayan mohammad a syrian ref...\n",
       "34269    donald trump clinched the republican nominatio...\n",
       "16365    the catalan government s business head resigne...\n",
       "20962    fox news host megyn kelly shut down a liberal ...\n",
       "6726     it s a wonder why donald trump ha been divorce...\n",
       "                               ...                        \n",
       "28063    saudi film day a two-day showcase designed to ...\n",
       "23358    british airway said it flight were gradually r...\n",
       "18889    the russian may not have hacked our election b...\n",
       "34360    the shadowy terrorist believed to have made th...\n",
       "2040     arizona senator john mccain seems to be the lo...\n",
       "Name: text, Length: 1000, dtype: object"
      ]
     },
<<<<<<< HEAD
     "execution_count": 14,
=======
     "execution_count": 86,
>>>>>>> 93bc163fbd9c247eb1a4c80c64c411b49730007d
     "metadata": {},
     "output_type": "execute_result"
    }
   ],
   "source": [
    "nltk.download('punkt')\n",
    "\n",
    "def split_into_lemmas(content):\n",
    "    # Convert to lowercase\n",
    "    content = content.lower()\n",
    "    # Tokenize and lemmatize\n",
    "    words = TextBlob(content).words\n",
    "    return ' '.join([word.lemmatize() for word in words])\n",
    "\n",
    "# Assuming X is your DataFrame column with text data\n",
    "X.apply(split_into_lemmas)"
   ]
  },
  {
   "cell_type": "code",
<<<<<<< HEAD
   "execution_count": 15,
=======
   "execution_count": 90,
>>>>>>> 93bc163fbd9c247eb1a4c80c64c411b49730007d
   "metadata": {},
   "outputs": [],
   "source": [
    "\n",
    "count_vectorizer = CountVectorizer()\n",
    "X_count = count_vectorizer.fit_transform(X)\n",
    "\n",
    "# Create a TfidfTransformer\n",
    "tfidf_transformer = TfidfTransformer()\n",
    "X_tfidf = tfidf_transformer.fit_transform(X_count)"
   ]
  },
  {
   "cell_type": "code",
<<<<<<< HEAD
   "execution_count": 16,
=======
   "execution_count": 91,
>>>>>>> 93bc163fbd9c247eb1a4c80c64c411b49730007d
   "metadata": {},
   "outputs": [
    {
     "name": "stdout",
     "output_type": "stream",
     "text": [
      "(1000, 26624)\n"
     ]
    }
   ],
   "source": [
    "tfidf_transformer = TfidfTransformer()\n",
    "\n",
    "content_tfidf = tfidf_transformer.fit_transform(X_tfidf)\n",
    "print (content_tfidf.shape)"
   ]
  },
  {
   "cell_type": "code",
<<<<<<< HEAD
   "execution_count": 17,
=======
   "execution_count": 93,
>>>>>>> 93bc163fbd9c247eb1a4c80c64c411b49730007d
   "metadata": {},
   "outputs": [],
   "source": [
    "X_train, X_test, y_train, y_test = train_test_split(X, y, test_size=0.2, random_state=42)"
   ]
  },
  {
   "cell_type": "code",
<<<<<<< HEAD
   "execution_count": 18,
=======
   "execution_count": 97,
>>>>>>> 93bc163fbd9c247eb1a4c80c64c411b49730007d
   "metadata": {},
   "outputs": [],
   "source": [
    "pipeline_svm = Pipeline([\n",
    "    ('bow', CountVectorizer(analyzer=split_into_lemmas)),\n",
    "    ('tfidf', TfidfTransformer()),\n",
    "    ('classifier', SVC()),  # <== change here\n",
    "])\n",
    "\n",
    "# pipeline parameters to automatically explore and tune\n",
    "param_svm = [\n",
    "  {'classifier__C': [1, 10, 100, 1000], 'classifier__kernel': ['linear']},\n",
    "  {'classifier__C': [1, 10, 100, 1000], 'classifier__gamma': [0.001, 0.0001], 'classifier__kernel': ['rbf']},\n",
    "]\n",
    "\n",
    "grid_svm = GridSearchCV(\n",
    "    pipeline_svm,  # pipeline from above\n",
    "    param_grid=param_svm,  # parameters to tune via cross validation\n",
    "    refit=True,  # fit using all data, on the best detected classifier\n",
    "    n_jobs=-1,  # number of cores to use for parallelization; -1 for \"all cores\"\n",
    "    scoring='accuracy',  # what score are we optimizing?\n",
    "    cv=StratifiedKFold(n_splits=5),  # what type of cross validation to use\n",
    ")"
   ]
  },
  {
   "cell_type": "code",
<<<<<<< HEAD
   "execution_count": 19,
=======
   "execution_count": 100,
>>>>>>> 93bc163fbd9c247eb1a4c80c64c411b49730007d
   "metadata": {},
   "outputs": [
    {
     "name": "stdout",
     "output_type": "stream",
     "text": [
      "Confusion Matrix : \n",
      "\n",
      "[[92 20]\n",
      " [18 70]]\n",
      "              precision    recall  f1-score   support\n",
      "\n",
      "           0       0.84      0.82      0.83       112\n",
      "           1       0.78      0.80      0.79        88\n",
      "\n",
      "    accuracy                           0.81       200\n",
      "   macro avg       0.81      0.81      0.81       200\n",
      "weighted avg       0.81      0.81      0.81       200\n",
      "\n"
     ]
    }
   ],
   "source": [
    "svm_detector = grid_svm.fit(X_train, y_train)\n",
    "# Evaluate the model\n",
    "print('Confusion Matrix : \\n')\n",
    "print(confusion_matrix(y_test, svm_detector.predict(X_test)))\n",
    "print(classification_report(y_test, svm_detector.predict(X_test)))"
   ]
  },
  {
   "cell_type": "code",
<<<<<<< HEAD
   "execution_count": 20,
=======
   "execution_count": 102,
>>>>>>> 93bc163fbd9c247eb1a4c80c64c411b49730007d
   "metadata": {},
   "outputs": [
    {
     "name": "stdout",
     "output_type": "stream",
     "text": [
      "1\n",
      "0\n"
     ]
    }
   ],
   "source": [
    "# real news (1)\n",
    "print (svm_detector.predict([\"A Georgian-American businessman who met then-Miss Universe pageant owner Donald Trump in 2013, has been questioned by congressional investigators about whether he helped organize a meeting between Russians and Trump’s eldest son during the 2016 election campaign, four sources familiar with the matter said. The meeting at Trump Tower in New York involving Donald Trump Jr. and other campaign advisers is a focus of probes by Congress and Special Counsel Robert Mueller on whether campaign officials colluded with Russia when it sought to interfere in the U.S. election, the sources said. Russia denies allegations by U.S. intelligence agencies that it meddled in the election and President Donald Trump denies any collusion. The Senate and House of Representatives intelligence committees recently questioned behind closed doors Irakly Kaveladze, a U.S. citizen born in the former Soviet republic of Georgia, the sources said. He is a U.S.-based representative of Azerbaijani oligarch Aras Agalarov’s real estate firm, the Crocus Group. The panels knew Kaveladze was at the June 9, 2016 meeting but became more interested in him after learning he also attended a private dinner in Las Vegas in 2013 with Trump and Agalarov as they celebrated an agreement to hold that year’s Miss Universe pageant in Moscow, the sources said.  Committee members now want to know more about the extent of Kaveladze’s contacts with the Trump family and whether he had a bigger role than previously believed in setting up the Trump Tower meeting when Trump was a Republican candidate for president. The White House declined to comment. Mueller’s office also declined to comment. Scott Balber, a New York lawyer who represents Kaveladze, confirmed that his client attended both the dinner in Las Vegas and the Trump Tower meeting but said he did not set up the second meeting. Trump’s son-in-law Jared Kushner, other Trump campaign aides, and Russian lawyer Natalia Veselnitskaya were also at that meeting. Lawyer Balber also said the committees were only seeking Kaveladze’s input as a witness and were not targeting him for investigation. “No-one has ever told me that they have any interest in him other than as a witness,” Balber said. Lawyers for Trump Jr. and Kushner did not respond to requests for comment about their contacts with Kaveladze. A lawyer for President Trump declined to comment. One photograph from the 2013 dinner, when Trump still owned the Miss Universe pageant, shows Agalarov and his pop singer son Emin along with Trump, two Trump aides and several other people at the dining table. Another shows Kaveladze standing behind Trump and Emin Agalarov as they speak. The pictures were found by a University of California at Irvine student and blogger Scott Stedman, who posted them on Nov. 22. Aras Agalarov is a billionaire property developer in Russia who was awarded the Order of Honor by Russian President Vladimir Putin. Several U.S. officials who spoke on condition of anonymity said Mueller’s team and the committees are looking for any evidence of a link between the Trump Tower meeting and the release six weeks later of emails stolen from Democratic Party organizations. They are also trying to determine whether there was any discussion at the New York meeting of lifting U.S. economic sanctions on Russia, a top priority for Putin, the officials said. Rob Goldstone, a British publicist, told Trump Jr. ahead of the New York meeting that Russian lawyer Veselnitskaya would be bringing damaging information about donations to a charity linked to Trump’s Democratic rival Hillary Clinton, according to emails later released by Trump Jr. Trump Jr. initially said the meeting was about Russian adoptions but later said it also included Veselnitskaya’s promises of information on the donations to the Clinton charity. He said he ultimately never received the information, although it was later posted on the Internet. In a statement issued after meeting with the Senate Judiciary Committee on Sept. 7, Trump, Jr. said Goldstone and Veselnitskaya were in a conference room with him as well as Kaveladze and a translator. Balber said Kaveladze attended expecting to serve as a translator, although he did not do so in the end because Veselnitskaya brought her own.\"])[0])\n",
    "# fakes news (0)\n",
    "print (svm_detector.predict([\"Trump supporters and the so-called president s favorite network are lashing out at special counsel Robert Mueller and the FBI. The White House is in panic-mode after Mueller obtained tens of thousands of transition team emails as part of the Russian probe. Ironically, it will quite possibly be emails that brings Trump down.A lawyer for the Trump transition team is claiming that the emails had been illegally turned over by the General Services Administration because the account owners never received notification of the request and he s claiming that they were  privileged communications. In a letter, Trump s attorney requested that Congress  act immediately to protect future presidential transitions from having their private records misappropriated by government agencies, particularly in the context of sensitive investigations intersecting with political motives. Mueller spokesman Peter Carr defended the special counsel s work in a statement issued just past midnight on Sunday, several hours after claims of   unlawful conduct  by Trump s attorney were made, according to Politico. When we have obtained emails in the course of our ongoing criminal investigation, we have secured either the account owner s consent or appropriate criminal process,  he said.The words that pop out in the statement are  criminal investigation,  the  account owner s consent  and  criminal process. While on the campaign trail, Donald Trump asked Russians to hack Hillary Clinton s emails. After the election, Trump s team is claiming that Mueller obtained the transition teams  emails illegally, even though that s not the truth. We see a pattern here.Team Trump thought Mueller was on a fishing expedition. Turns out, he was actually reeling in the fish. The White House was not aware at the time that he had the emails. Mueller got them through GSA so that team Trump could not selectively leave any out if they were requested.Merry Christmas, Mr. Trump.Photo by Ann Heisenfelt/Getty Images.\"])[0])"
   ]
  },
  {
   "cell_type": "code",
<<<<<<< HEAD
   "execution_count": 21,
=======
   "execution_count": 108,
>>>>>>> 93bc163fbd9c247eb1a4c80c64c411b49730007d
   "metadata": {},
   "outputs": [
    {
     "name": "stdout",
     "output_type": "stream",
     "text": [
      "Real (1): \n",
      "1\n",
<<<<<<< HEAD
      "0\n",
      "0\n",
      "1\n",
      "1\n",
      "1\n",
      "1\n",
      "1\n",
      "1\n",
      "1\n",
      "Fake (0): \n",
      "0\n",
      "1\n",
      "0\n",
      "0\n",
      "0\n",
      "0\n",
      "0\n",
      "0\n",
      "0\n",
=======
      "1\n",
      "1\n",
      "0\n",
      "1\n",
      "0\n",
      "1\n",
      "1\n",
      "0\n",
      "0\n",
      "Fake (0): \n",
      "0\n",
      "0\n",
      "0\n",
      "0\n",
      "0\n",
      "0\n",
      "1\n",
      "0\n",
      "0\n",
>>>>>>> 93bc163fbd9c247eb1a4c80c64c411b49730007d
      "0\n"
     ]
    }
   ],
   "source": [
    "print (\"Real (1): \")\n",
    "real_test = df_real.sample(n=10)\n",
    "for text in real_test[\"text\"]:\n",
    "    prediction = svm_detector.predict([text])[0]\n",
    "    print(prediction)\n",
    "print (\"Fake (0): \")\n",
    "fake_test = df_fake.sample(n=10)\n",
    "for text in fake_test[\"text\"]:\n",
    "    prediction = svm_detector.predict([text])[0]\n",
    "    print(prediction)"
   ]
  },
  {
   "cell_type": "code",
<<<<<<< HEAD
   "execution_count": 22,
   "metadata": {},
   "outputs": [
    {
     "data": {
      "text/plain": [
       "['model.pkl']"
      ]
     },
     "execution_count": 22,
     "metadata": {},
     "output_type": "execute_result"
    }
   ],
   "source": [
    "joblib.dump(svm_detector, 'model.pkl')"
   ]
=======
   "execution_count": null,
   "metadata": {},
   "outputs": [],
   "source": []
>>>>>>> 93bc163fbd9c247eb1a4c80c64c411b49730007d
  }
 ],
 "metadata": {
  "kernelspec": {
   "display_name": "Python 3",
   "language": "python",
   "name": "python3"
  },
  "language_info": {
   "codemirror_mode": {
    "name": "ipython",
    "version": 3
   },
   "file_extension": ".py",
   "mimetype": "text/x-python",
   "name": "python",
   "nbconvert_exporter": "python",
   "pygments_lexer": "ipython3",
<<<<<<< HEAD
   "version": "3.11.2"
=======
   "version": "3.10.9"
>>>>>>> 93bc163fbd9c247eb1a4c80c64c411b49730007d
  }
 },
 "nbformat": 4,
 "nbformat_minor": 2
}
